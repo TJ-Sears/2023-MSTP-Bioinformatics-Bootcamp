{
 "cells": [
  {
   "cell_type": "markdown",
   "metadata": {},
   "source": [
    "### Visualizing Reads with IGV"
   ]
  },
  {
   "cell_type": "markdown",
   "metadata": {},
   "source": [
    "Check out the [IGV](http://software.broadinstitute.org/software/igv/) website. Go to Downloads page and follow the instructions based on your operating system. \n",
    " - **Note:** Using the web app version of IGV seems to fail, so we recommend downloading the Windows/Mac version and using that.\n"
   ]
  },
  {
   "cell_type": "markdown",
   "metadata": {},
   "source": [
    "In order to view alignments, you need to upload the bam files to an external server/computer (i.e., not TSCC) for viewing. One option is download the bam and the indexed bai files to your desktop and load them from there. But since the files are big and take time to process I have put them to an external server for you to view (without having to download them). There are 10 files in total, two for each condition (2 parental, 3 persister) corresponding to the bam and the index files for each."
   ]
  },
  {
   "cell_type": "markdown",
   "metadata": {},
   "source": [
    "**After IGV finishes installing, open IGV:**"
   ]
  },
  {
   "cell_type": "markdown",
   "metadata": {},
   "source": [
    "Select your genome with **Genomes** - *Load Genome From Server...* Choose hg19."
   ]
  },
  {
   "cell_type": "markdown",
   "metadata": {},
   "source": [
    "Upload the bam files from the external server with - **File** - *Load from URL...*<br><br>\n",
    "The URL links are:<br>\n",
    "<br>\n",
    "DMSO-1:<br>\n",
    "https://mstp-bootcamp-2020.s3-us-west-1.amazonaws.com/DMSO_1_ATCACGAligned.out.sorted.bam<br>\n",
    "https://mstp-bootcamp-2020.s3-us-west-1.amazonaws.com/DMSO_1_ATCACGAligned.out.sorted.bam.bai<br>\n",
    "<br>\n",
    "DMSO-2:<br>\n",
    "https://mstp-bootcamp-2020.s3-us-west-1.amazonaws.com/DMSO_2_CGATGTAligned.out.sorted.bam<br>\n",
    "https://mstp-bootcamp-2020.s3-us-west-1.amazonaws.com/DMSO_2_CGATGTAligned.out.sorted.bam.bai<br>\n",
    "<br>\n",
    "DTP-1:<br>\n",
    "https://mstp-bootcamp-2020.s3-us-west-1.amazonaws.com/DTP_1_CAGATCAligned.out.sorted.bam<br>\n",
    "https://mstp-bootcamp-2020.s3-us-west-1.amazonaws.com/DTP_1_CAGATCAligned.out.sorted.bam.bai<br>\n",
    "<br>\n",
    "DTP-2:<br>\n",
    "https://mstp-bootcamp-2020.s3-us-west-1.amazonaws.com/DTP_2_CCGTCCAligned.out.sorted.bam<br>\n",
    "https://mstp-bootcamp-2020.s3-us-west-1.amazonaws.com/DTP_2_CCGTCCAligned.out.sorted.bam.bai<br>\n",
    "<br>\n",
    "DTP-3:<br>\n",
    "https://mstp-bootcamp-2020.s3-us-west-1.amazonaws.com/DTP_3_GTGAAAAligned.out.sorted.bam<br>\n",
    "https://mstp-bootcamp-2020.s3-us-west-1.amazonaws.com/DTP_3_GTGAAAAligned.out.sorted.bam.bai<br>"
   ]
  },
  {
   "cell_type": "markdown",
   "metadata": {},
   "source": [
    "After you have uploaded the files, IGV will likely ask you to zoom in before visualization. To start type TP53 in the search bar at the top and you should see the text replaced with the actual visualization."
   ]
  },
  {
   "cell_type": "markdown",
   "metadata": {},
   "source": [
    "Play around by viewing different genes or chromosome locations. Can you see genes that clearly have fewer reads in the parental vs persister datasets? What about differences in called variants at specific positions? We'll come back to gene analyses later on after running differential expression."
   ]
  },
  {
   "cell_type": "markdown",
   "metadata": {},
   "source": [
    "When you are ready to quit IGV, you can save the session with _File - Save session_. Next time you open IGV you can open your saved session without having to reload the BAM files."
   ]
  }
 ],
 "metadata": {
  "kernelspec": {
   "display_name": "Python 3 (ipykernel)",
   "language": "python",
   "name": "python3"
  },
  "language_info": {
   "codemirror_mode": {
    "name": "ipython",
    "version": 3
   },
   "file_extension": ".py",
   "mimetype": "text/x-python",
   "name": "python",
   "nbconvert_exporter": "python",
   "pygments_lexer": "ipython3",
   "version": "3.9.5"
  }
 },
 "nbformat": 4,
 "nbformat_minor": 4
}
